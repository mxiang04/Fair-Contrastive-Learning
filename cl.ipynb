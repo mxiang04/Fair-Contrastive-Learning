{
 "cells": [
  {
   "cell_type": "code",
   "execution_count": null,
   "metadata": {},
   "outputs": [],
   "source": [
    "# install packages required for boosting and contrastive learning\n",
    "!pip install git+https://github.com/clabrugere/pytorch-scarf.git\n",
    "!pip install aif360\n",
    "!pip install tqdm\n",
    "!pip install pandas\n",
    "!pip install scikit-learn\n",
    "!pip install xgboost\n",
    "!pip3 install torch torchvision torchaudio --index-url https://download.pytorch.org/whl/cu118"
   ]
  },
  {
   "cell_type": "code",
   "execution_count": 1,
   "metadata": {},
   "outputs": [
    {
     "name": "stdout",
     "output_type": "stream",
     "text": [
      "PyTorch version: 2.2.0\n",
      "**********\n",
      "CUDNN version: None\n",
      "Available GPU devices: 0\n",
      "CUDA is not available. Running on CPU...\n"
     ]
    }
   ],
   "source": [
    "# checking if we have gpu\n",
    "import torch\n",
    "\n",
    "print(f'PyTorch version: {torch.__version__}')\n",
    "print('*'*10)\n",
    "print(f'CUDNN version: {torch.backends.cudnn.version()}')\n",
    "print(f'Available GPU devices: {torch.cuda.device_count()}')\n",
    "\n",
    "def check_gpu():\n",
    "    if torch.cuda.is_available():\n",
    "        print(\"CUDA is available! Running on GPU...\")\n",
    "        device = torch.device(\"cuda\")\n",
    "        print(f\"Device Name: {torch.cuda.get_device_name()}\")\n",
    "    else:\n",
    "        print(\"CUDA is not available. Running on CPU...\")\n",
    "        device = torch.device(\"cpu\")\n",
    "    return device\n",
    "\n",
    "device = check_gpu()"
   ]
  },
  {
   "cell_type": "code",
   "execution_count": 2,
   "metadata": {},
   "outputs": [],
   "source": [
    "# Imports\n",
    "from scarf.loss import NTXent\n",
    "from scarf.model import SCARF\n",
    "import numpy as np\n",
    "import matplotlib.pyplot as plt\n",
    "import pandas as pd\n",
    "import torch\n",
    "import random\n",
    "from tqdm import tqdm\n",
    "from sklearn import datasets\n",
    "from sklearn.linear_model import LogisticRegression\n",
    "from sklearn.manifold import TSNE\n",
    "from sklearn.metrics import (\n",
    "    ConfusionMatrixDisplay,\n",
    "    classification_report,\n",
    "    confusion_matrix,\n",
    ")\n",
    "from sklearn.model_selection import train_test_split\n",
    "from sklearn.preprocessing import StandardScaler\n",
    "from torch.optim import Adam\n",
    "from torch.utils.data import DataLoader\n",
    "from torch.utils.data import Dataset\n",
    "\n",
    "from sklearn.preprocessing import LabelEncoder, OneHotEncoder\n",
    "from aif360.sklearn.datasets import fetch_adult, fetch_compas\n",
    "from sklearn.preprocessing import MinMaxScaler"
   ]
  },
  {
   "cell_type": "code",
   "execution_count": 3,
   "metadata": {},
   "outputs": [],
   "source": [
    "# creating the dataset class for the dataloader\n",
    "class SCARFDataset(Dataset):\n",
    "    def __init__(self, data, target, columns=None):\n",
    "        self.data = np.array(data)\n",
    "        self.target = np.array(target)\n",
    "        self.columns = columns\n",
    "\n",
    "    # we need these properties to corrupt features of data points - this is how SCARF works\n",
    "\n",
    "    @property\n",
    "    def features_low(self):\n",
    "        return self.data.min(axis=0)\n",
    "\n",
    "    @property\n",
    "    def features_high(self):\n",
    "        return self.data.max(axis=0)\n",
    "\n",
    "    @property\n",
    "    def shape(self):\n",
    "        return self.data.shape\n",
    "\n",
    "    def __getitem__(self, index):\n",
    "        return torch.tensor(self.data[index], dtype=torch.float32)\n",
    "\n",
    "    def __len__(self):\n",
    "        return len(self.data)"
   ]
  },
  {
   "cell_type": "code",
   "execution_count": 4,
   "metadata": {},
   "outputs": [],
   "source": [
    "# Hyperparameters & Helper Functions\n",
    "def dataset_embeddings(model, loader, device):\n",
    "    embeddings = []\n",
    "\n",
    "    for x in tqdm(loader):\n",
    "        x = x.to(device)\n",
    "        # getting embeddings of the data for later\n",
    "        embeddings.append(model.get_embeddings(x))\n",
    "\n",
    "    embeddings = torch.cat(embeddings).cpu().numpy()\n",
    "\n",
    "    return embeddings\n",
    "\n",
    "\n",
    "def fix_seed(seed):\n",
    "    random.seed(seed)\n",
    "    np.random.seed(seed)\n",
    "    torch.manual_seed(seed)\n",
    "    torch.cuda.manual_seed(seed)\n",
    "\n",
    "# hyperparameters\n",
    "batch_size = 128\n",
    "epochs = 1000\n",
    "device = torch.device(\"cuda\" if torch.cuda.is_available() else \"cpu\")\n",
    "seed = 1234\n",
    "fix_seed(seed)"
   ]
  },
  {
   "cell_type": "code",
   "execution_count": 5,
   "metadata": {},
   "outputs": [
    {
     "name": "stdout",
     "output_type": "stream",
     "text": [
      "Train set: (1584, 5)\n",
      "Test set: (3694, 5)\n"
     ]
    },
    {
     "name": "stderr",
     "output_type": "stream",
     "text": [
      "/var/folders/_j/7xf6n_ts231_sz96nsh2r8rm0000gn/T/ipykernel_5832/2902550724.py:33: FutureWarning: Downcasting behavior in `replace` is deprecated and will be removed in a future version. To retain the old behavior, explicitly call `result.infer_objects(copy=False)`. To opt-in to the future behavior, set `pd.set_option('future.no_silent_downcasting', True)`\n",
      "  y = y.replace({\"Recidivated\": 1, \"Survived\": 0})\n",
      "/var/folders/_j/7xf6n_ts231_sz96nsh2r8rm0000gn/T/ipykernel_5832/2902550724.py:33: FutureWarning: The behavior of Series.replace (and DataFrame.replace) with CategoricalDtype is deprecated. In a future version, replace will only be used for cases that preserve the categories. To change the categories, use ser.cat.rename_categories instead.\n",
      "  y = y.replace({\"Recidivated\": 1, \"Survived\": 0})\n"
     ]
    }
   ],
   "source": [
    "dataset = \"compas\"  # Either compas or adult\n",
    "\n",
    "# preprocessing the datasets - ensuring that we are not multindex, we don't have constant columns, huge outliers etc.\n",
    "\n",
    "if dataset == \"adult\":\n",
    "    X, y, _ = fetch_adult()\n",
    "    X.index = y.index = pd.MultiIndex.from_arrays(X.index.codes, names=X.index.names)\n",
    "    y = pd.Series(y.factorize(sort=True)[0], index=y.index, name=y.name)\n",
    "    X = pd.get_dummies(X, prefix_sep=\"__\", drop_first=True)\n",
    "    X = X.reset_index()\n",
    "    y = y.reset_index()\n",
    "    X.fillna(0, inplace=True)\n",
    "    y.drop(columns=[\"race\", \"sex\"], inplace=True)\n",
    "    y = y[\"annual-income\"].squeeze()\n",
    "    train_data, test_data, train_target, test_target = train_test_split(\n",
    "        X, y, train_size=16281, shuffle=False)\n",
    "    constant_cols = [c for c in train_data.columns if train_data[c].nunique() == 1]\n",
    "    train_data.drop(columns=constant_cols, inplace=True)\n",
    "    test_data.drop(columns=constant_cols, inplace=True)\n",
    "    protected = [\"race\", \"sex\"]\n",
    "\n",
    "elif dataset == \"compas\":\n",
    "    cols = [\"sex\", \"race\", \"age_cat\", \"priors_count\", \"c_charge_degree\"]\n",
    "    X, y = fetch_compas(usecols=cols, binary_race=True)\n",
    "\n",
    "    # Quantize priors count between 0, 1-3, and >3\n",
    "    X[\"priors_count\"] = pd.cut(\n",
    "        X[\"priors_count\"], [-1, 0, 3, 100], labels=[0, 1, 2]\n",
    "    )\n",
    "    le = LabelEncoder()\n",
    "    X = X.reset_index(drop=True)\n",
    "    y = y.reset_index(drop=True)\n",
    "    y = y.replace({\"Recidivated\": 1, \"Survived\": 0})\n",
    "    X = X.apply(lambda x: pd.factorize(x)[0])\n",
    "    train_data, test_data, train_target, test_target = train_test_split(\n",
    "        X, y, test_size=3694, shuffle=True, random_state=0\n",
    "    )\n",
    "    constant_cols = [c for c in train_data.columns if train_data[c].nunique() == 1]\n",
    "    train_data.drop(columns=constant_cols, inplace=True)\n",
    "    test_data.drop(columns=constant_cols, inplace=True)\n",
    "    protected = [\"sex\", \"race\"]\n",
    "\n",
    "else:\n",
    "    print(\"Error! Dataset not found.\")\n",
    "\n",
    "protected_indices = [0, 1]\n",
    "train_ds = SCARFDataset(train_data.to_numpy().astype(float), train_target.to_numpy(), columns=train_data.columns)\n",
    "test_ds = SCARFDataset(test_data.to_numpy().astype(float), test_data.to_numpy(), columns=test_data.columns)\n",
    "train_loader = DataLoader(train_ds, batch_size=batch_size, shuffle=True)\n",
    "print(f\"Train set: {train_ds.shape}\")\n",
    "print(f\"Test set: {test_ds.shape}\")"
   ]
  },
  {
   "cell_type": "code",
   "execution_count": 6,
   "metadata": {},
   "outputs": [],
   "source": [
    "# Model\n",
    "model = SCARF(\n",
    "    input_dim=train_ds.shape[1],\n",
    "    features_low=train_ds.features_low,\n",
    "    features_high=train_ds.features_high,\n",
    "    dim_hidden_encoder=8,\n",
    "    num_hidden_encoder=3,\n",
    "    dim_hidden_head=24,\n",
    "    num_hidden_head=2,\n",
    "    corruption_rate=0.6,\n",
    "    dropout=0.1,\n",
    ").to(device)\n",
    "\n",
    "optimizer = Adam(model.parameters(), lr=0.001, weight_decay=1e-4)\n",
    "criterion = NTXent()"
   ]
  },
  {
   "cell_type": "code",
   "execution_count": 7,
   "metadata": {},
   "outputs": [
    {
     "name": "stdout",
     "output_type": "stream",
     "text": [
      "epoch 10/1000 - loss: 67.0231\n",
      "epoch 20/1000 - loss: 66.5543\n",
      "epoch 30/1000 - loss: 66.1956\n",
      "epoch 40/1000 - loss: 66.3172\n",
      "epoch 50/1000 - loss: 66.0390\n",
      "epoch 60/1000 - loss: 66.1130\n",
      "epoch 70/1000 - loss: 66.2122\n",
      "epoch 80/1000 - loss: 66.1620\n",
      "epoch 90/1000 - loss: 65.9684\n",
      "epoch 100/1000 - loss: 65.9578\n",
      "epoch 110/1000 - loss: 65.8960\n",
      "epoch 120/1000 - loss: 66.0483\n",
      "epoch 130/1000 - loss: 65.6656\n",
      "epoch 140/1000 - loss: 66.0209\n",
      "epoch 150/1000 - loss: 65.9075\n",
      "epoch 160/1000 - loss: 65.9557\n",
      "epoch 170/1000 - loss: 65.8038\n",
      "epoch 180/1000 - loss: 65.7260\n",
      "epoch 190/1000 - loss: 65.6743\n",
      "epoch 200/1000 - loss: 65.9313\n",
      "epoch 210/1000 - loss: 65.7394\n",
      "epoch 220/1000 - loss: 65.7972\n",
      "epoch 230/1000 - loss: 65.6670\n",
      "epoch 240/1000 - loss: 65.9820\n",
      "epoch 250/1000 - loss: 65.6930\n",
      "epoch 260/1000 - loss: 65.7072\n",
      "epoch 270/1000 - loss: 65.5892\n",
      "epoch 280/1000 - loss: 65.4975\n",
      "epoch 290/1000 - loss: 65.6315\n",
      "epoch 300/1000 - loss: 65.7594\n",
      "epoch 310/1000 - loss: 65.4412\n",
      "epoch 320/1000 - loss: 65.4716\n",
      "epoch 330/1000 - loss: 65.7184\n",
      "epoch 340/1000 - loss: 65.5284\n",
      "epoch 350/1000 - loss: 65.4090\n",
      "epoch 360/1000 - loss: 65.5386\n",
      "epoch 370/1000 - loss: 65.4948\n",
      "epoch 380/1000 - loss: 65.5653\n",
      "epoch 390/1000 - loss: 65.4174\n",
      "epoch 400/1000 - loss: 65.4935\n",
      "epoch 410/1000 - loss: 65.5973\n",
      "epoch 420/1000 - loss: 65.5006\n",
      "epoch 430/1000 - loss: 65.2336\n",
      "epoch 440/1000 - loss: 65.6582\n",
      "epoch 450/1000 - loss: 65.5955\n",
      "epoch 460/1000 - loss: 65.5283\n",
      "epoch 470/1000 - loss: 65.4416\n",
      "epoch 480/1000 - loss: 65.3152\n",
      "epoch 490/1000 - loss: 65.3458\n",
      "epoch 500/1000 - loss: 65.4719\n",
      "epoch 510/1000 - loss: 65.4947\n",
      "epoch 520/1000 - loss: 65.4878\n",
      "epoch 530/1000 - loss: 65.7614\n",
      "epoch 540/1000 - loss: 65.5782\n",
      "epoch 550/1000 - loss: 65.7382\n",
      "epoch 560/1000 - loss: 65.3937\n",
      "epoch 570/1000 - loss: 65.6873\n",
      "epoch 580/1000 - loss: 65.5670\n",
      "epoch 590/1000 - loss: 65.3755\n",
      "epoch 600/1000 - loss: 65.1657\n",
      "epoch 610/1000 - loss: 65.6351\n",
      "epoch 620/1000 - loss: 65.6533\n",
      "epoch 630/1000 - loss: 65.3096\n",
      "epoch 640/1000 - loss: 65.3661\n",
      "epoch 650/1000 - loss: 65.4348\n",
      "epoch 660/1000 - loss: 65.6303\n",
      "epoch 670/1000 - loss: 65.4741\n",
      "epoch 680/1000 - loss: 65.4322\n",
      "epoch 690/1000 - loss: 65.3557\n",
      "epoch 700/1000 - loss: 65.2317\n",
      "epoch 710/1000 - loss: 65.6310\n",
      "epoch 720/1000 - loss: 65.3047\n",
      "epoch 730/1000 - loss: 65.3858\n",
      "epoch 740/1000 - loss: 65.5865\n",
      "epoch 750/1000 - loss: 65.1185\n",
      "epoch 760/1000 - loss: 65.6388\n",
      "epoch 770/1000 - loss: 65.3172\n",
      "epoch 780/1000 - loss: 65.3551\n",
      "epoch 790/1000 - loss: 65.4764\n",
      "epoch 800/1000 - loss: 65.5255\n",
      "epoch 810/1000 - loss: 65.3589\n",
      "epoch 820/1000 - loss: 65.6711\n",
      "epoch 830/1000 - loss: 65.3963\n",
      "epoch 840/1000 - loss: 65.3050\n",
      "epoch 850/1000 - loss: 65.3190\n",
      "epoch 860/1000 - loss: 65.3865\n",
      "epoch 870/1000 - loss: 65.5435\n",
      "epoch 880/1000 - loss: 65.2641\n",
      "epoch 890/1000 - loss: 65.4456\n",
      "epoch 900/1000 - loss: 65.3601\n",
      "epoch 910/1000 - loss: 65.3280\n",
      "epoch 920/1000 - loss: 65.1719\n",
      "epoch 930/1000 - loss: 65.5533\n",
      "epoch 940/1000 - loss: 65.6714\n",
      "epoch 950/1000 - loss: 65.2175\n",
      "epoch 960/1000 - loss: 65.3493\n",
      "epoch 970/1000 - loss: 65.4392\n",
      "epoch 980/1000 - loss: 65.5043\n",
      "epoch 990/1000 - loss: 65.4818\n",
      "epoch 1000/1000 - loss: 65.4922\n"
     ]
    }
   ],
   "source": [
    "\n",
    "loss_history = []\n",
    "\n",
    "# Training for accuracy\n",
    "def train_for_accuracy():\n",
    "    for epoch in range(1, epochs + 1):\n",
    "        epoch_loss = 0.0\n",
    "        for x in train_loader:\n",
    "            x = x.to(device)\n",
    "            emb_anchor, emb_positive = model(x) # positive pairs, should be mapped closer\n",
    "\n",
    "            loss = criterion(emb_anchor, emb_positive) # negative pairs are implied, they are the other data points in the dataset\n",
    "            loss.backward()\n",
    "\n",
    "            optimizer.step()\n",
    "            optimizer.zero_grad()\n",
    "            epoch_loss += loss.item()\n",
    "\n",
    "        loss_history.append(epoch_loss)\n",
    "        if epoch % 10 == 0:\n",
    "            print(f\"epoch {epoch}/{epochs} - loss: {loss_history[-1]:.4f}\")\n",
    "train_for_accuracy()"
   ]
  },
  {
   "cell_type": "code",
   "execution_count": 8,
   "metadata": {},
   "outputs": [
    {
     "name": "stdout",
     "output_type": "stream",
     "text": [
      "epoch 10/1000 - loss: 61.6546\n",
      "epoch 20/1000 - loss: 61.4922\n",
      "epoch 30/1000 - loss: 61.4710\n",
      "epoch 40/1000 - loss: 61.3108\n",
      "epoch 50/1000 - loss: 61.2999\n",
      "epoch 60/1000 - loss: 61.2625\n",
      "epoch 70/1000 - loss: 60.9573\n",
      "epoch 80/1000 - loss: 60.8916\n",
      "epoch 90/1000 - loss: 60.7884\n",
      "epoch 100/1000 - loss: 60.7348\n",
      "epoch 110/1000 - loss: 60.6032\n",
      "epoch 120/1000 - loss: 60.5619\n",
      "epoch 130/1000 - loss: 60.4329\n",
      "epoch 140/1000 - loss: 60.5529\n",
      "epoch 150/1000 - loss: 60.5523\n",
      "epoch 160/1000 - loss: 60.5414\n",
      "epoch 170/1000 - loss: 60.3801\n",
      "epoch 180/1000 - loss: 60.6217\n",
      "epoch 190/1000 - loss: 60.6377\n",
      "epoch 200/1000 - loss: 60.4636\n",
      "epoch 210/1000 - loss: 60.3762\n",
      "epoch 220/1000 - loss: 60.4473\n",
      "epoch 230/1000 - loss: 60.4259\n",
      "epoch 240/1000 - loss: 60.2383\n",
      "epoch 250/1000 - loss: 60.3791\n",
      "epoch 260/1000 - loss: 60.4376\n",
      "epoch 270/1000 - loss: 60.2996\n",
      "epoch 280/1000 - loss: 60.4208\n",
      "epoch 290/1000 - loss: 60.2308\n",
      "epoch 300/1000 - loss: 60.2741\n",
      "epoch 310/1000 - loss: 60.3195\n",
      "epoch 320/1000 - loss: 60.2902\n",
      "epoch 330/1000 - loss: 60.2307\n",
      "epoch 340/1000 - loss: 60.4239\n",
      "epoch 350/1000 - loss: 60.2447\n",
      "epoch 360/1000 - loss: 60.2084\n",
      "epoch 370/1000 - loss: 60.2865\n",
      "epoch 380/1000 - loss: 60.3567\n",
      "epoch 390/1000 - loss: 60.2832\n",
      "epoch 400/1000 - loss: 60.2506\n",
      "epoch 410/1000 - loss: 60.3890\n",
      "epoch 420/1000 - loss: 60.4563\n",
      "epoch 430/1000 - loss: 60.3169\n",
      "epoch 440/1000 - loss: 60.4524\n",
      "epoch 450/1000 - loss: 60.2207\n",
      "epoch 460/1000 - loss: 60.3049\n",
      "epoch 470/1000 - loss: 60.3208\n",
      "epoch 480/1000 - loss: 60.2329\n",
      "epoch 490/1000 - loss: 60.2742\n",
      "epoch 500/1000 - loss: 60.1708\n",
      "epoch 510/1000 - loss: 60.3157\n",
      "epoch 520/1000 - loss: 60.2683\n",
      "epoch 530/1000 - loss: 60.3037\n",
      "epoch 540/1000 - loss: 60.2316\n",
      "epoch 550/1000 - loss: 60.2578\n",
      "epoch 560/1000 - loss: 60.2655\n",
      "epoch 570/1000 - loss: 60.2144\n",
      "epoch 580/1000 - loss: 60.2864\n",
      "epoch 590/1000 - loss: 60.2323\n",
      "epoch 600/1000 - loss: 60.3746\n",
      "epoch 610/1000 - loss: 60.2516\n",
      "epoch 620/1000 - loss: 60.2057\n",
      "epoch 630/1000 - loss: 60.1481\n",
      "epoch 640/1000 - loss: 60.2380\n",
      "epoch 650/1000 - loss: 60.1400\n",
      "epoch 660/1000 - loss: 60.1726\n",
      "epoch 670/1000 - loss: 60.2111\n",
      "epoch 680/1000 - loss: 60.2897\n",
      "epoch 690/1000 - loss: 60.1983\n",
      "epoch 700/1000 - loss: 60.1757\n",
      "epoch 710/1000 - loss: 60.1933\n",
      "epoch 720/1000 - loss: 60.2089\n",
      "epoch 730/1000 - loss: 60.1762\n",
      "epoch 740/1000 - loss: 60.2081\n",
      "epoch 750/1000 - loss: 60.1416\n",
      "epoch 760/1000 - loss: 60.1979\n",
      "epoch 770/1000 - loss: 60.1996\n",
      "epoch 780/1000 - loss: 60.0830\n",
      "epoch 790/1000 - loss: 60.0829\n",
      "epoch 800/1000 - loss: 60.2727\n",
      "epoch 810/1000 - loss: 60.2468\n",
      "epoch 820/1000 - loss: 60.1579\n",
      "epoch 830/1000 - loss: 60.1694\n",
      "epoch 840/1000 - loss: 60.2368\n",
      "epoch 850/1000 - loss: 60.0935\n",
      "epoch 860/1000 - loss: 60.1818\n",
      "epoch 870/1000 - loss: 60.2751\n",
      "epoch 880/1000 - loss: 60.2538\n",
      "epoch 890/1000 - loss: 60.3481\n",
      "epoch 900/1000 - loss: 60.0941\n",
      "epoch 910/1000 - loss: 60.2340\n",
      "epoch 920/1000 - loss: 60.1397\n",
      "epoch 930/1000 - loss: 60.2345\n",
      "epoch 940/1000 - loss: 60.2070\n",
      "epoch 950/1000 - loss: 60.2481\n",
      "epoch 960/1000 - loss: 60.1301\n",
      "epoch 970/1000 - loss: 60.1923\n",
      "epoch 980/1000 - loss: 60.1512\n",
      "epoch 990/1000 - loss: 60.1829\n",
      "epoch 1000/1000 - loss: 60.3145\n"
     ]
    }
   ],
   "source": [
    "loss_history_fair = []\n",
    "\n",
    "# Train for fairness\n",
    "def train_for_fairness():\n",
    "    for epoch in range(1, epochs + 1):\n",
    "        epoch_loss = 0.0\n",
    "        for x in train_loader:\n",
    "            x = x.to(device)\n",
    "            x_copy = x.clone()\n",
    "            \n",
    "            # for each data point, we create a synthetic opposite where we flip the protected attributes\n",
    "            for row_idx in range(x_copy.size(0)):\n",
    "                for idx in protected_indices:\n",
    "                    x_copy[row_idx, idx] = 1 - x_copy[row_idx, idx]\n",
    "            emb_x, _ = model(x)\n",
    "            emb_x_copy, _ = model(x_copy)\n",
    "            loss = criterion(emb_x, emb_x_copy) # emb_x and its synthetic pair are positive pairs with flipped protected attributes\n",
    "            loss.backward()\n",
    "            optimizer.step()\n",
    "            optimizer.zero_grad()\n",
    "            epoch_loss += loss.item()\n",
    "\n",
    "        loss_history_fair.append(epoch_loss)\n",
    "\n",
    "        if epoch % 10 == 0:\n",
    "            print(f\"epoch {epoch}/{epochs} - loss: {loss_history_fair[-1]:.4f}\")\n",
    "train_for_fairness()"
   ]
  },
  {
   "cell_type": "code",
   "execution_count": 9,
   "metadata": {},
   "outputs": [],
   "source": [
    "# Save model weights\n",
    "torch.save(model.state_dict(), \"contrastive_learner_compas.pth\")"
   ]
  },
  {
   "cell_type": "code",
   "execution_count": 10,
   "metadata": {},
   "outputs": [
    {
     "data": {
      "text/plain": [
       "Text(0, 0.5, 'loss')"
      ]
     },
     "execution_count": 10,
     "metadata": {},
     "output_type": "execute_result"
    },
    {
     "data": {
      "image/png": "[encoded data removed]",
      "text/plain": [
       "<Figure size 1000x500 with 1 Axes>"
      ]
     },
     "metadata": {},
     "output_type": "display_data"
    }
   ],
   "source": [
    "# Plot loss history of regular training\n",
    "\n",
    "fig, ax = plt.subplots(figsize=(10, 5))\n",
    "ax.plot(loss_history)\n",
    "ax.set_xlabel(\"epoch\")\n",
    "ax.set_ylabel(\"loss\")"
   ]
  },
  {
   "cell_type": "code",
   "execution_count": 11,
   "metadata": {},
   "outputs": [
    {
     "data": {
      "text/plain": [
       "Text(0, 0.5, 'loss')"
      ]
     },
     "execution_count": 11,
     "metadata": {},
     "output_type": "execute_result"
    },
    {
     "data": {
      "image/png": "[encoded data removed]",
      "text/plain": [
       "<Figure size 1000x500 with 1 Axes>"
      ]
     },
     "metadata": {},
     "output_type": "display_data"
    }
   ],
   "source": [
    "# Plot loss history of fairness training\n",
    "\n",
    "fig, ax = plt.subplots(figsize=(10, 5))\n",
    "ax.plot(loss_history_fair)\n",
    "ax.set_xlabel(\"epoch\")\n",
    "ax.set_ylabel(\"loss\")"
   ]
  },
  {
   "cell_type": "code",
   "execution_count": 12,
   "metadata": {},
   "outputs": [
    {
     "name": "stderr",
     "output_type": "stream",
     "text": [
      "100%|██████████| 13/13 [00:00<00:00, 1266.81it/s]\n",
      "100%|██████████| 29/29 [00:00<00:00, 1350.28it/s]"
     ]
    },
    {
     "name": "stdout",
     "output_type": "stream",
     "text": [
      "(1584, 8)\n",
      "(3694, 8)\n"
     ]
    },
    {
     "name": "stderr",
     "output_type": "stream",
     "text": [
      "\n"
     ]
    }
   ],
   "source": [
    "train_loader = DataLoader(train_ds, batch_size=batch_size, shuffle=False)\n",
    "test_loader = DataLoader(test_ds, batch_size=batch_size, shuffle=False)\n",
    "\n",
    "# get embeddings for training and test set\n",
    "train_embeddings = dataset_embeddings(model, train_loader, device)\n",
    "test_embeddings = dataset_embeddings(model, test_loader, device)\n",
    "\n",
    "print(train_embeddings.shape)\n",
    "print(test_embeddings.shape)"
   ]
  },
  {
   "cell_type": "code",
   "execution_count": 13,
   "metadata": {},
   "outputs": [
    {
     "name": "stdout",
     "output_type": "stream",
     "text": [
      "              precision    recall  f1-score   support\n",
      "\n",
      "           0       0.60      0.66      0.63      1957\n",
      "           1       0.57      0.51      0.54      1737\n",
      "\n",
      "    accuracy                           0.59      3694\n",
      "   macro avg       0.58      0.58      0.58      3694\n",
      "weighted avg       0.58      0.59      0.58      3694\n",
      "\n"
     ]
    },
    {
     "data": {
      "text/plain": [
       "<sklearn.metrics._plot.confusion_matrix.ConfusionMatrixDisplay at 0x32ebd2210>"
      ]
     },
     "execution_count": 13,
     "metadata": {},
     "output_type": "execute_result"
    },
    {
     "data": {
      "image/png": "[encoded data removed]",
      "text/plain": [
       "<Figure size 500x500 with 2 Axes>"
      ]
     },
     "metadata": {},
     "output_type": "display_data"
    }
   ],
   "source": [
    "clf_vanilla = LogisticRegression()\n",
    "# vanilla dataset: train the classifier on the original data\n",
    "clf_vanilla.fit(train_data, train_target)\n",
    "vanilla_predictions = clf_vanilla.predict(test_data)\n",
    "\n",
    "print(classification_report(test_target, vanilla_predictions))\n",
    "cm = confusion_matrix(test_target, vanilla_predictions)\n",
    "disp = ConfusionMatrixDisplay(confusion_matrix=cm)\n",
    "\n",
    "fig, ax = plt.subplots(figsize=(5, 5))\n",
    "disp.plot(ax=ax)"
   ]
  },
  {
   "cell_type": "code",
   "execution_count": 14,
   "metadata": {},
   "outputs": [
    {
     "name": "stdout",
     "output_type": "stream",
     "text": [
      "              precision    recall  f1-score   support\n",
      "\n",
      "           0       0.60      0.60      0.60      1957\n",
      "           1       0.54      0.54      0.54      1737\n",
      "\n",
      "    accuracy                           0.57      3694\n",
      "   macro avg       0.57      0.57      0.57      3694\n",
      "weighted avg       0.57      0.57      0.57      3694\n",
      "\n"
     ]
    },
    {
     "data": {
      "text/plain": [
       "<sklearn.metrics._plot.confusion_matrix.ConfusionMatrixDisplay at 0x17b3c8d10>"
      ]
     },
     "execution_count": 14,
     "metadata": {},
     "output_type": "execute_result"
    },
    {
     "data": {
      "image/png": "[encoded data removed]",
      "text/plain": [
       "<Figure size 500x500 with 2 Axes>"
      ]
     },
     "metadata": {},
     "output_type": "display_data"
    }
   ],
   "source": [
    "# embeddings dataset: train the classifier on the embeddings\n",
    "clf = LogisticRegression()\n",
    "clf.fit(train_embeddings, train_target)\n",
    "vanilla_predictions = clf.predict(test_embeddings)\n",
    "\n",
    "print(classification_report(test_target, vanilla_predictions))\n",
    "cm = confusion_matrix(test_target, vanilla_predictions)\n",
    "disp = ConfusionMatrixDisplay(confusion_matrix=cm)\n",
    "\n",
    "fig, ax = plt.subplots(figsize=(5, 5))\n",
    "disp.plot(ax=ax)"
   ]
  },
  {
   "cell_type": "code",
   "execution_count": 15,
   "metadata": {},
   "outputs": [],
   "source": [
    "#Visualizing the embeddings with T-sne\n",
    "from sklearn.manifold import TSNE\n",
    "tsne = TSNE(n_components=2)\n",
    "reduced = tsne.fit_transform(train_embeddings[:2000])\n",
    "positive = train_target[:2000] == 1\n",
    "\n",
    "fig, ax = plt.subplots(figsize=(5, 5))\n",
    "\n",
    "ax.scatter(reduced[positive, 0], reduced[positive, 1], label=\"positive\")\n",
    "ax.scatter(reduced[~positive, 0], reduced[~positive, 1], label=\"negative\")\n",
    "plt.legend()"
   ]
  },
  {
   "cell_type": "code",
   "execution_count": null,
   "metadata": {},
   "outputs": [],
   "source": [
    "# Generate synthetic Data for fairness testing\n",
    "def generate_synthetic_data(df):\n",
    "    synthetic_data = {}\n",
    "    for column in df.columns:\n",
    "        if df[column].dtype in [\"int64\", \"float64\", \"int8\"]:\n",
    "            # we make sure that the synthetic data is within the bounds of the original training data\n",
    "            min_value = df[column].min()\n",
    "            max_value = df[column].max()\n",
    "            synthetic_data[column] = np.random.uniform(\n",
    "                min_value, max_value, size=len(df)\n",
    "            )\n",
    "        elif df[column].dtype == \"object\":\n",
    "            # choose a random string that has already been seen\n",
    "            unique_values = df[column].unique()\n",
    "            synthetic_data[column] = np.random.choice(unique_values, size=len(df))\n",
    "        elif df[column].dtype == \"bool\":\n",
    "            synthetic_data[column] = np.random.choice([True, False], size=len(df))\n",
    "        else:\n",
    "            synthetic_data[column] = [np.nan] * len(df)\n",
    "\n",
    "    synthetic_df = pd.DataFrame(synthetic_data, columns=df.columns)\n",
    "    return synthetic_df\n",
    "\n",
    "fairness_test_df = generate_synthetic_data(train_data)\n",
    "\n",
    "# the idea is that we create a synthetic dataset from which we generate flipped protected attribute pairs\n",
    "fairness_test_ds = SCARFDataset(\n",
    "    fairness_test_df.to_numpy().astype(float),\n",
    "    train_target.to_numpy(),\n",
    "    columns=fairness_test_df.columns,\n",
    ")  # The other 2 parameters don't really matter\n",
    "\n",
    "fairness_test_loader = DataLoader(\n",
    "    fairness_test_ds, batch_size=batch_size, shuffle=False\n",
    ")\n"
   ]
  },
  {
   "cell_type": "code",
   "execution_count": null,
   "metadata": {},
   "outputs": [],
   "source": [
    "# Testing Fairness\n",
    "fairness_vanilla = []\n",
    "fairness_embed = []\n",
    "\n",
    "model.eval()\n",
    "\n",
    "for _, x in fairness_test_df.iterrows():\n",
    "    x_copy = x.to_frame().T\n",
    "    \n",
    "    # flip the protected attributes\n",
    "    for attribute in protected:\n",
    "        x_copy[attribute] = 1 - x_copy[attribute]\n",
    "        \n",
    "    vanilla_x = clf_vanilla.predict(x.values.reshape(1, -1))\n",
    "    vanilla_x_copy = clf_vanilla.predict(x_copy.values.reshape(1, -1))\n",
    "    # see if the model classifies them both as the same\n",
    "    fairness_vanilla.append(1 if vanilla_x == vanilla_x_copy else 0)\n",
    "\n",
    "for x in fairness_test_loader:\n",
    "    x = x.to(device)\n",
    "    x_copy = x.clone()\n",
    "    for i in protected_indices:\n",
    "        x_copy[i] = 1 - x[i]\n",
    "\n",
    "    embed_x = model.get_embeddings(x).cpu().numpy()\n",
    "    embed_x_copy = model.get_embeddings(x_copy).cpu().numpy()\n",
    "    cl_x, cl_x_copy = clf.predict(embed_x), clf.predict(embed_x_copy)\n",
    "    for (embed_pred_x, embed_pred_x_copy) in zip(cl_x, cl_x_copy):\n",
    "        fairness_embed.append(1 if embed_pred_x == embed_pred_x_copy else 0)\n",
    "\n",
    "vanilla_fair_score = np.mean(np.array(fairness_vanilla))\n",
    "embed_fair_score = np.mean(np.array(fairness_embed))"
   ]
  },
  {
   "cell_type": "code",
   "execution_count": null,
   "metadata": {},
   "outputs": [
    {
     "name": "stdout",
     "output_type": "stream",
     "text": [
      "0.9046717171717171\n",
      "0.9936868686868687\n"
     ]
    }
   ],
   "source": [
    "print(vanilla_fair_score)\n",
    "print(embed_fair_score)"
   ]
  },
  {
   "cell_type": "code",
   "execution_count": null,
   "metadata": {},
   "outputs": [
    {
     "name": "stdout",
     "output_type": "stream",
     "text": [
      "              precision    recall  f1-score   support\n",
      "\n",
      "           0       0.60      0.72      0.66      1957\n",
      "           1       0.59      0.46      0.52      1737\n",
      "\n",
      "    accuracy                           0.60      3694\n",
      "   macro avg       0.60      0.59      0.59      3694\n",
      "weighted avg       0.60      0.60      0.59      3694\n",
      "\n",
      "0.9842171717171717\n"
     ]
    },
    {
     "data": {
      "image/png": "[encoded data removed]",
      "text/plain": [
       "<Figure size 500x500 with 2 Axes>"
      ]
     },
     "metadata": {},
     "output_type": "display_data"
    }
   ],
   "source": [
    "# Booster \n",
    "import xgboost as xgb\n",
    "from sklearn.metrics import roc_auc_score\n",
    "\n",
    "params = {\n",
    "    \"objective\": \"binary:logistic\",\n",
    "    \"eval_metric\": \"logloss\",\n",
    "    \"eta\": 0.1,\n",
    "    \"max_depth\": 3,\n",
    "    \"subsample\": 0.8,\n",
    "    \"colsample_bytree\": 0.8,\n",
    "    \"gamma\": 1,\n",
    "    \"min_child_weight\": 1,\n",
    "    \"verbosity\": 0,\n",
    "}\n",
    "\n",
    "# generic xgb booster trained on the embeddings\n",
    "dtrain = xgb.DMatrix(train_embeddings, label=train_target)\n",
    "dtest = xgb.DMatrix(test_embeddings, label=test_target)\n",
    "\n",
    "num_rounds = 100\n",
    "booster_model = xgb.train(params, dtrain, num_rounds)\n",
    "\n",
    "y_pred = booster_model.predict(dtest)\n",
    "y_pred_binary = (y_pred >=0.5).astype(int)\n",
    "print(classification_report(test_target, y_pred_binary))\n",
    "cm = confusion_matrix(test_target, y_pred_binary)\n",
    "disp = ConfusionMatrixDisplay(confusion_matrix=cm)\n",
    "\n",
    "fig, ax = plt.subplots(figsize=(5, 5))\n",
    "disp.plot(ax=ax)\n",
    "\n",
    "# same fairness testing code\n",
    "fairness_scores = []\n",
    "for x in fairness_test_loader:\n",
    "    x = x.to(device)\n",
    "    x_copy = x.clone()\n",
    "    for i in protected_indices:\n",
    "        x_copy[i] = 1 - x[i]\n",
    "\n",
    "    embed_x = model.get_embeddings(x).cpu().numpy()\n",
    "    embed_x_copy = model.get_embeddings(x_copy).cpu().numpy()\n",
    "    dembed_x = xgb.DMatrix(embed_x)\n",
    "    dembed_x_copy = xgb.DMatrix(embed_x_copy)\n",
    "    cl_x, cl_x_copy = booster_model.predict(dembed_x), booster_model.predict(\n",
    "        dembed_x_copy\n",
    "    )\n",
    "    fairness_scores.extend((cl_x == cl_x_copy).astype(int))\n",
    "\n",
    "fairness_booster_score = np.mean(np.array(fairness_scores))\n",
    "print(fairness_booster_score)\n",
    "\n",
    "#Extra metrics:\n",
    "auc_score = roc_auc_score(test_target, y_pred)\n",
    "\n",
    "print(f\"AUC Score: {auc_score:.4f}\")"
   ]
  },
  {
   "cell_type": "code",
   "execution_count": null,
   "metadata": {},
   "outputs": [],
   "source": []
  },
  {
   "cell_type": "code",
   "execution_count": null,
   "metadata": {},
   "outputs": [],
   "source": []
  }
 ],
 "metadata": {
  "kernelspec": {
   "display_name": ".venv",
   "language": "python",
   "name": "python3"
  },
  "language_info": {
   "codemirror_mode": {
    "name": "ipython",
    "version": 3
   },
   "file_extension": ".py",
   "mimetype": "text/x-python",
   "name": "python",
   "nbconvert_exporter": "python",
   "pygments_lexer": "ipython3",
   "version": "3.12.3"
  }
 },
 "nbformat": 4,
 "nbformat_minor": 2
}
